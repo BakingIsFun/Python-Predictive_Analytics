{
 "cells": [
  {
   "cell_type": "markdown",
   "metadata": {},
   "source": [
    "## 1.0  Introduction"
   ]
  },
  {
   "cell_type": "markdown",
   "metadata": {},
   "source": [
    "Import the functions we need from the different libraries.\n",
    "\n",
    "%matplotlib inline outputs the plotting commands below the cells that prodce4d it so that we can view it.  "
   ]
  },
  {
   "cell_type": "code",
   "execution_count": 2,
   "metadata": {},
   "outputs": [],
   "source": [
    "import pandas as pd\n",
    "import numpy as np\n",
    "import matplotlib.pyplot as plt\n",
    "%matplotlib inline"
   ]
  },
  {
   "cell_type": "markdown",
   "metadata": {},
   "source": [
    "We have a file named Advertising.csv.  It contains 200 periods of sales observations.  Each period of observation is also accompanied by data on TV, Radio and Newspaper advertising.\n",
    "\n",
    "The data from the file is read in as a pandas dataframe."
   ]
  },
  {
   "cell_type": "code",
   "execution_count": 3,
   "metadata": {},
   "outputs": [],
   "source": [
    "Advertising = pd.read_csv('PredictiveAnalytics\\Advertising.csv')"
   ]
  },
  {
   "cell_type": "markdown",
   "metadata": {},
   "source": [
    "One way of having an overview of the amount of data is to look at the shape of the dataframe.  \n",
    "\n",
    "The dataframe contains 200 rows and five columns."
   ]
  },
  {
   "cell_type": "code",
   "execution_count": 4,
   "metadata": {},
   "outputs": [
    {
     "data": {
      "text/plain": [
       "(200, 5)"
      ]
     },
     "execution_count": 4,
     "metadata": {},
     "output_type": "execute_result"
    }
   ],
   "source": [
    "Advertising.shape"
   ]
  },
  {
   "cell_type": "markdown",
   "metadata": {},
   "source": [
    "Let us take a look at what the dataset looks like.  The numbers in the first column is the defult index given to the dataframe.  There is a first column, which is the observation number, that is un-named.  It looks awkward here."
   ]
  },
  {
   "cell_type": "code",
   "execution_count": 12,
   "metadata": {},
   "outputs": [
    {
     "data": {
      "text/html": [
       "<div>\n",
       "<style scoped>\n",
       "    .dataframe tbody tr th:only-of-type {\n",
       "        vertical-align: middle;\n",
       "    }\n",
       "\n",
       "    .dataframe tbody tr th {\n",
       "        vertical-align: top;\n",
       "    }\n",
       "\n",
       "    .dataframe thead th {\n",
       "        text-align: right;\n",
       "    }\n",
       "</style>\n",
       "<table border=\"1\" class=\"dataframe\">\n",
       "  <thead>\n",
       "    <tr style=\"text-align: right;\">\n",
       "      <th></th>\n",
       "      <th>Unnamed: 0</th>\n",
       "      <th>TV</th>\n",
       "      <th>Radio</th>\n",
       "      <th>Newspaper</th>\n",
       "      <th>Sales</th>\n",
       "    </tr>\n",
       "  </thead>\n",
       "  <tbody>\n",
       "    <tr>\n",
       "      <th>0</th>\n",
       "      <td>1</td>\n",
       "      <td>230.1</td>\n",
       "      <td>37.8</td>\n",
       "      <td>69.2</td>\n",
       "      <td>22.1</td>\n",
       "    </tr>\n",
       "    <tr>\n",
       "      <th>1</th>\n",
       "      <td>2</td>\n",
       "      <td>44.5</td>\n",
       "      <td>39.3</td>\n",
       "      <td>45.1</td>\n",
       "      <td>10.4</td>\n",
       "    </tr>\n",
       "    <tr>\n",
       "      <th>2</th>\n",
       "      <td>3</td>\n",
       "      <td>17.2</td>\n",
       "      <td>45.9</td>\n",
       "      <td>69.3</td>\n",
       "      <td>9.3</td>\n",
       "    </tr>\n",
       "    <tr>\n",
       "      <th>3</th>\n",
       "      <td>4</td>\n",
       "      <td>151.5</td>\n",
       "      <td>41.3</td>\n",
       "      <td>58.5</td>\n",
       "      <td>18.5</td>\n",
       "    </tr>\n",
       "    <tr>\n",
       "      <th>4</th>\n",
       "      <td>5</td>\n",
       "      <td>180.8</td>\n",
       "      <td>10.8</td>\n",
       "      <td>58.4</td>\n",
       "      <td>12.9</td>\n",
       "    </tr>\n",
       "  </tbody>\n",
       "</table>\n",
       "</div>"
      ],
      "text/plain": [
       "   Unnamed: 0     TV  Radio  Newspaper  Sales\n",
       "0           1  230.1   37.8       69.2   22.1\n",
       "1           2   44.5   39.3       45.1   10.4\n",
       "2           3   17.2   45.9       69.3    9.3\n",
       "3           4  151.5   41.3       58.5   18.5\n",
       "4           5  180.8   10.8       58.4   12.9"
      ]
     },
     "execution_count": 12,
     "metadata": {},
     "output_type": "execute_result"
    }
   ],
   "source": [
    "Advertising.head()"
   ]
  },
  {
   "cell_type": "markdown",
   "metadata": {},
   "source": [
    "Before we rename the first column, we want to know exactly how it is named.  We use the commands below to find out the information we need."
   ]
  },
  {
   "cell_type": "code",
   "execution_count": 19,
   "metadata": {},
   "outputs": [
    {
     "data": {
      "text/plain": [
       "array(['Unnamed: 0', 'TV', 'Radio', 'Newspaper', 'Sales'], dtype=object)"
      ]
     },
     "execution_count": 19,
     "metadata": {},
     "output_type": "execute_result"
    }
   ],
   "source": [
    "Advertising.columns.values"
   ]
  },
  {
   "cell_type": "markdown",
   "metadata": {},
   "source": [
    "We can re-name the first column by using the .rename method as shown below."
   ]
  },
  {
   "cell_type": "code",
   "execution_count": 4,
   "metadata": {},
   "outputs": [
    {
     "data": {
      "text/html": [
       "<div>\n",
       "<style scoped>\n",
       "    .dataframe tbody tr th:only-of-type {\n",
       "        vertical-align: middle;\n",
       "    }\n",
       "\n",
       "    .dataframe tbody tr th {\n",
       "        vertical-align: top;\n",
       "    }\n",
       "\n",
       "    .dataframe thead th {\n",
       "        text-align: right;\n",
       "    }\n",
       "</style>\n",
       "<table border=\"1\" class=\"dataframe\">\n",
       "  <thead>\n",
       "    <tr style=\"text-align: right;\">\n",
       "      <th></th>\n",
       "      <th>Obs</th>\n",
       "      <th>TV</th>\n",
       "      <th>Radio</th>\n",
       "      <th>Newspaper</th>\n",
       "      <th>Sales</th>\n",
       "    </tr>\n",
       "  </thead>\n",
       "  <tbody>\n",
       "    <tr>\n",
       "      <th>0</th>\n",
       "      <td>1</td>\n",
       "      <td>230.1</td>\n",
       "      <td>37.8</td>\n",
       "      <td>69.2</td>\n",
       "      <td>22.1</td>\n",
       "    </tr>\n",
       "    <tr>\n",
       "      <th>1</th>\n",
       "      <td>2</td>\n",
       "      <td>44.5</td>\n",
       "      <td>39.3</td>\n",
       "      <td>45.1</td>\n",
       "      <td>10.4</td>\n",
       "    </tr>\n",
       "    <tr>\n",
       "      <th>2</th>\n",
       "      <td>3</td>\n",
       "      <td>17.2</td>\n",
       "      <td>45.9</td>\n",
       "      <td>69.3</td>\n",
       "      <td>9.3</td>\n",
       "    </tr>\n",
       "    <tr>\n",
       "      <th>3</th>\n",
       "      <td>4</td>\n",
       "      <td>151.5</td>\n",
       "      <td>41.3</td>\n",
       "      <td>58.5</td>\n",
       "      <td>18.5</td>\n",
       "    </tr>\n",
       "    <tr>\n",
       "      <th>4</th>\n",
       "      <td>5</td>\n",
       "      <td>180.8</td>\n",
       "      <td>10.8</td>\n",
       "      <td>58.4</td>\n",
       "      <td>12.9</td>\n",
       "    </tr>\n",
       "  </tbody>\n",
       "</table>\n",
       "</div>"
      ],
      "text/plain": [
       "   Obs     TV  Radio  Newspaper  Sales\n",
       "0    1  230.1   37.8       69.2   22.1\n",
       "1    2   44.5   39.3       45.1   10.4\n",
       "2    3   17.2   45.9       69.3    9.3\n",
       "3    4  151.5   41.3       58.5   18.5\n",
       "4    5  180.8   10.8       58.4   12.9"
      ]
     },
     "execution_count": 4,
     "metadata": {},
     "output_type": "execute_result"
    }
   ],
   "source": [
    "Advertising.rename(columns = {'Unnamed: 0': 'Obs'}, inplace=True)\n",
    "Advertising.head()"
   ]
  },
  {
   "cell_type": "markdown",
   "metadata": {},
   "source": [
    "## 2.0  Descriptive Understanding"
   ]
  },
  {
   "cell_type": "markdown",
   "metadata": {},
   "source": [
    "We take a first look at the data visually by plotting a few simple charts.\n",
    "\n",
    "These charts can tell us very quickly whether there is a relationship between the different modes of advertising and sales.\n",
    "\n",
    "We plot each of the three modes of advertising, namely, TV, Radio and Newspaper, against sales in their own plot.\n",
    "\n",
    "The first block of codes (starting with fig) sets the parameters of the charts.  \n",
    "The three charts will be on one row (nrows=1, ncols =3), they will all share the y-axis (sharey = True).\n",
    "\n",
    "fig.text command places the text in the location specified.  The specification is in relation to the figure area.\n",
    "fig.text(0.08,0.5 ....) - the first number refers to the horizontal position and the second number refers to the vertical position\n",
    "\n",
    "The ax1.plot plots the scatterplot between TV advertising and Sales.  \n",
    "ax1.legend just tells the program where to put the labels (in this case it is lower right)\n",
    "\n",
    "np.ployfit is a numpy function that does a least square fit.  It can do a polynomial fit, y = a<sub>o</sub> + a<sub>1</sub>x + a<sub>2</sub>x<sup>2</sup> + . . . + a<sub>2</sub>x<sup>deg</sup>\n",
    "\n",
    "It returns the coefficents a<sub>i</sub> that minimizes the squared errors.\n",
    "\n",
    "Since we are only doing a linear function, Sales = a<sub>o</sub> + a<sub>1</sub>TV, we use deg=1\n",
    "\n",
    "np.poly1d() takes the coefficents of a polynomial and returns an object that represents the polynomial function.\n",
    "\n",
    "np.poly1d([a,b]) returns ax + b (see the codes two cells from this one - with the print(z) and print(p) codes) to have a better idea.\n",
    "\n",
    "Here we assign p = np.poly1d() and use apply the equation to the data from the Advertising in ax1.plot().\n",
    "So, we are plotting the TV advertising against the expected results (from a linear regression  -wich we cover in more detail later).  This is the straight line that we see in each plot - this straight line minizes the squared errors."
   ]
  },
  {
   "cell_type": "code",
   "execution_count": 47,
   "metadata": {},
   "outputs": [
    {
     "data": {
      "text/plain": [
       "[<matplotlib.lines.Line2D at 0x224c267e438>]"
      ]
     },
     "execution_count": 47,
     "metadata": {},
     "output_type": "execute_result"
    },
    {
     "data": {
      "image/png": "[encoded data removed]",
      "text/plain": [
       "<Figure size 1440x720 with 3 Axes>"
      ]
     },
     "metadata": {},
     "output_type": "display_data"
    }
   ],
   "source": [
    "fig,(ax1,ax2,ax3) = plt.subplots(nrows=1, ncols = 3, sharey=True,figsize = (20,10))\n",
    "fig.text(0.08,0.5,'Sales ($\\'000)', va = 'center', rotation='vertical' )\n",
    "fig.text(0.5,0.04, 'Advertising Expenditure', ha = 'center')\n",
    "fig.suptitle('Sales vs Different Modes of Advertising', ha='center')\n",
    "\n",
    "\n",
    "\n",
    "ax1.plot(Advertising['TV'],Advertising['Sales'],'b*', label = 'TV')\n",
    "ax1.legend(loc = \"lower right\")\n",
    "\n",
    "\n",
    "z = np.polyfit(x= Advertising['TV'],y = Advertising['Sales'],deg =1)\n",
    "p = np.poly1d(z)\n",
    "ax1.plot(Advertising['TV'],p(Advertising['TV']),'r--')\n",
    "\n",
    "\n",
    "ax2.plot(Advertising['Radio'],Advertising['Sales'],'g*', label = 'Radio')\n",
    "ax2.legend(loc = \"lower right\")\n",
    "\n",
    "\n",
    "z = np.polyfit(Advertising['Radio'],Advertising['Sales'],1)\n",
    "p = np.poly1d(z)\n",
    "ax2.plot(Advertising['Radio'],p(Advertising['Radio']),'b--')\n",
    "\n",
    "\n",
    "\n",
    "ax3.plot(Advertising['Newspaper'],Advertising['Sales'],'r*', label='Newspaper')\n",
    "ax3.legend(loc = \"lower right\")\n",
    "\n",
    "\n",
    "z = np.polyfit(Advertising['Newspaper'],Advertising['Sales'],1)\n",
    "p = np.poly1d(z)\n",
    "ax3.plot(Advertising['Newspaper'],p(Advertising['Newspaper']),'g--')\n",
    "\n"
   ]
  },
  {
   "cell_type": "markdown",
   "metadata": {},
   "source": [
    "Below is an illustration of what z and p from the above codes contain."
   ]
  },
  {
   "cell_type": "code",
   "execution_count": 44,
   "metadata": {},
   "outputs": [
    {
     "name": "stdout",
     "output_type": "stream",
     "text": [
      "[ 0.0546931  12.35140707]\n",
      " \n",
      "0.05469 x + 12.35\n"
     ]
    }
   ],
   "source": [
    "print(z)\n",
    "print(p)"
   ]
  },
  {
   "cell_type": "markdown",
   "metadata": {},
   "source": [
    "The graphs above indicates that there may be positve relationship between the different modes of advertising and sales - that is, higher level of advertising leads to higher level of sales.  We note however, that the effect is not equally strong for the different modes of advertising.  TV seems to have the strongest effect (steepest line) and Newspaper the weakest (least steep)."
   ]
  },
  {
   "cell_type": "markdown",
   "metadata": {},
   "source": [
    "Note that we can try to fit the surface (instead of a line) by setting the degree=2.\n",
    "\n"
   ]
  },
  {
   "cell_type": "code",
   "execution_count": 50,
   "metadata": {},
   "outputs": [
    {
     "data": {
      "text/plain": [
       "[<matplotlib.lines.Line2D at 0x224c28b7f60>]"
      ]
     },
     "execution_count": 50,
     "metadata": {},
     "output_type": "execute_result"
    },
    {
     "data": {
      "image/png": "[encoded data removed]",
      "text/plain": [
       "<Figure size 1440x720 with 3 Axes>"
      ]
     },
     "metadata": {},
     "output_type": "display_data"
    }
   ],
   "source": [
    "fig,(ax1,ax2,ax3) = plt.subplots(nrows=1, ncols = 3, sharey=True,figsize = (20,10))\n",
    "fig.text(0.08,0.5,'Sales ($\\'000)', va = 'center', rotation='vertical' )\n",
    "fig.text(0.5,0.04, 'Advertising Expenditure', ha = 'center')\n",
    "fig.suptitle('Sales vs Different Modes of Advertising', ha='center')\n",
    "\n",
    "\n",
    "\n",
    "ax1.plot(Advertising['TV'],Advertising['Sales'],'b*', label = 'TV')\n",
    "ax1.legend(loc = \"lower right\")\n",
    "\n",
    "\n",
    "z1 = np.polyfit(x= Advertising['TV'],y = Advertising['Sales'],deg =2)\n",
    "p1 = np.poly1d(z1)\n",
    "ax1.plot(Advertising['TV'],p1(Advertising['TV']),'r--')\n",
    "\n",
    "\n",
    "ax2.plot(Advertising['Radio'],Advertising['Sales'],'g*', label = 'Radio')\n",
    "ax2.legend(loc = \"lower right\")\n",
    "\n",
    "\n",
    "z2 = np.polyfit(Advertising['Radio'],Advertising['Sales'],2)\n",
    "p2 = np.poly1d(z2)\n",
    "ax2.plot(Advertising['Radio'],p2(Advertising['Radio']),'b--')\n",
    "\n",
    "\n",
    "\n",
    "ax3.plot(Advertising['Newspaper'],Advertising['Sales'],'r*', label='Newspaper')\n",
    "ax3.legend(loc = \"lower right\")\n",
    "\n",
    "\n",
    "z3 = np.polyfit(Advertising['Newspaper'],Advertising['Sales'],2)\n",
    "p3 = np.poly1d(z3)\n",
    "ax3.plot(Advertising['Newspaper'],p3(Advertising['Newspaper']),'g--')\n",
    "\n"
   ]
  },
  {
   "cell_type": "code",
   "execution_count": 51,
   "metadata": {},
   "outputs": [
    {
     "name": "stdout",
     "output_type": "stream",
     "text": [
      "[-6.84693373e-05  6.72659270e-02  6.11412013e+00] \n",
      " [4.92713161e-04 1.78888807e-01 9.48610308e+00] \n",
      " [2.42449479e-05 5.27438309e-02 1.23768891e+01]\n",
      "            2\n",
      "-6.847e-05 x + 0.06727 x + 6.114 \n",
      "            2\n",
      "0.0004927 x + 0.1789 x + 9.486 \n",
      "            2\n",
      "2.424e-05 x + 0.05274 x + 12.38\n"
     ]
    }
   ],
   "source": [
    "print(z1, '\\n', z2, '\\n' , z3)\n",
    "print(p1, '\\n', p2, '\\n' , p3)"
   ]
  },
  {
   "cell_type": "markdown",
   "metadata": {},
   "source": [
    "## 3.0  Regresssion Analysis"
   ]
  },
  {
   "cell_type": "markdown",
   "metadata": {},
   "source": [
    "We know proceed to analyse the strength of the effect of the different modes of advertising on sales.  There are a lot of possible statistical models that can be tested but we use the simplest linear model here.\n",
    "\n",
    "We first test the effect of each mode of advertising on sales individually and the effect when the modes of advertising are combined.\n",
    "\n",
    "We call our analysis linear regression analysis.\n",
    "\n",
    "\n",
    "Note the two methods of using the statsmodels library.\n",
    "\n",
    "\n",
    "\n",
    "We use \"statsmodels.formula.api\".  \n",
    "\n",
    "Our model is Sales = Intercept + a*TV.  The code will estimate the value of the intercept and of \"a\"\n"
   ]
  },
  {
   "cell_type": "code",
   "execution_count": 5,
   "metadata": {},
   "outputs": [
    {
     "name": "stdout",
     "output_type": "stream",
     "text": [
      "                            OLS Regression Results                            \n",
      "==============================================================================\n",
      "Dep. Variable:                  Sales   R-squared:                       0.612\n",
      "Model:                            OLS   Adj. R-squared:                  0.610\n",
      "Method:                 Least Squares   F-statistic:                     312.1\n",
      "Date:                Tue, 04 Sep 2018   Prob (F-statistic):           1.47e-42\n",
      "Time:                        09:58:14   Log-Likelihood:                -519.05\n",
      "No. Observations:                 200   AIC:                             1042.\n",
      "Df Residuals:                     198   BIC:                             1049.\n",
      "Df Model:                           1                                         \n",
      "Covariance Type:            nonrobust                                         \n",
      "==============================================================================\n",
      "                 coef    std err          t      P>|t|      [0.025      0.975]\n",
      "------------------------------------------------------------------------------\n",
      "Intercept      7.0326      0.458     15.360      0.000       6.130       7.935\n",
      "TV             0.0475      0.003     17.668      0.000       0.042       0.053\n",
      "==============================================================================\n",
      "Omnibus:                        0.531   Durbin-Watson:                   1.935\n",
      "Prob(Omnibus):                  0.767   Jarque-Bera (JB):                0.669\n",
      "Skew:                          -0.089   Prob(JB):                        0.716\n",
      "Kurtosis:                       2.779   Cond. No.                         338.\n",
      "==============================================================================\n",
      "\n",
      "Warnings:\n",
      "[1] Standard Errors assume that the covariance matrix of the errors is correctly specified.\n"
     ]
    }
   ],
   "source": [
    "from statsmodels.formula.api import ols\n",
    "modelTV = ols(\"Sales~TV\", Advertising).fit()\n",
    "print(modelTV.summary())"
   ]
  },
  {
   "cell_type": "markdown",
   "metadata": {},
   "source": [
    "Information about the OLS Regression Results\n",
    "\n",
    "Dep. Variable:  Response variable in the model\n",
    "Model: The type of model used to fit the data\n",
    "Method:  How parameters of the model is calculated\n",
    "No. of Observations:  Number of observations or data points\n",
    "Df Residuals:  Degrees of freedom.  Computed by (number of observations - number of parameters estimated)\n",
    "Df Model: Number of parameters in the model (not including the intercept)\n",
    "Covariance Type: the normal covariance computation without any impostion of additional techniques to make it more precise and less susceptible to effects of outliers \n",
    "\n",
    "R-squared: The coefficient of determination.  Measures how well the model (regression line) fits the data points.  Ranges from 0 (no fit at all) to 1 (perfect fit).\n",
    "Adj. R-squared: Adjustment of R-squared value for the number of observations and the Df of residuals\n",
    "F-statistics: A measure of statistical significance of the fit of the model.  Computed by (mean squared error of model divided by mean squared error of the residuals). Range from 0 to arbitrarily large number.\n",
    "Prob (F-statistic):  Probability that all the regression coefficients are 0 (that is the null hypothesis). A very low value (usually less than 0.05) means that the null hypothesis is to be rejected and some of the coefficients are not zero.  \n",
    "Log-Likelihood:  The log of th likelihood function\n",
    "AIC: The Akaike Information Criterion.  Adjusts the log-likelihood based on number of observations and the complexity of the model.\n",
    "BIC: The Bayesian Information Criterion. Similar to the AIC, but has a higher penalty for models with more parameters.\n",
    "\n",
    "In the second table, you see that there are two rows, one for each parameter estimated:  one for Intercept and one for the predictor.\n",
    "\n",
    "coef.:  The value of the parameters\n",
    "std err:  The basic standard error of the estimate of the coefficient.\n",
    "t:  The t-statistic value of the parameter.  Computed by dividing the coef. with the std err.\n",
    "P>|t|:  The null hypothesis is that coef = 0.  This P>|t| value measures the probability of the t-value obtained if the null hypothesis is true. We usally set a hurdle of 5%.  Hence if the P>|t| is less than 5%, we usually reject the null hypothesis and say that coef is signficantly different from 0.\n",
    "[0.025  0.975] :  This is an estimate that there is a 2.5% probability that the coef. of the parameters will be below the value given under the \"0.025\" heading and 97.5% above the value given under the \"0.975\" heading.\n",
    "\n",
    "The third table is not so relevant at this point but provides statistical test of the distribution of the residuals.\n",
    "Omnibus:  Combined statistical test for the presence of skewness and kurtosis\n",
    "Prob (Omnibus):  The above statistic that is turned into a probability.  Small value of this (<0.05) indicates that the residulas are non-normal.\n",
    "Skew:  A measure of the symmetry of the data about the mean.  Normally-distributed errors should be symmetrically distributed about the mean.  The nearer is skew to 0, the more symmetric it is.\n",
    "Kurtosis:  A measure of the shape of the distribution.  Compares the amount of data close to the mean with those that are far away from the mean (in the tails).  A number close to 3 indicates that the distribution is closer to a normal distribution.\n",
    "Durbin-Watson:  A test for the presence of autocorrelation (that the errors are not independent).  Often important in time-series analysis. Small values indicate that autocorrelation is present.  The range is between 0 and 4.  Autocorrelation is indicated if the value is less than 1\n",
    "Jacque-Bera (JB):  A test of whether the data has skewness and kurtosis matching a normal distribution.  A smaller value is more indicate of a match to normal distribution than a large value.  \n",
    "Prob (JB):  The above statistic turned into a probability.  This is not significant (p > 0.05) so we do not reject the null hypothesis that the skewness and kurtosis of the data firs that of a normal distribution.\n",
    "Cond. No A test for multicollinearity (if in a fit with multiple parameters, the parameters are related with each other).\n"
   ]
  },
  {
   "cell_type": "markdown",
   "metadata": {},
   "source": [
    "We then use our results to predict the sales given the level of advertising.\n",
    "\n",
    "The model used is:\n",
    "\n",
    "Sales = 7.03 + 0.0475 TV\n",
    "\n",
    "For every $100 increase in advertising, we expect a $4,000 increase in sales (the sales are given in units of $'000)\n",
    "\n",
    "We wish to predict the sales given the TV advertising level of $295 \n"
   ]
  },
  {
   "cell_type": "code",
   "execution_count": 15,
   "metadata": {},
   "outputs": [
    {
     "name": "stdout",
     "output_type": "stream",
     "text": [
      "0    21.055902\n",
      "dtype: float64\n"
     ]
    }
   ],
   "source": [
    "\n",
    "predictSales = modelTV.predict({'TV':[295]})\n",
    "print(predictSales)"
   ]
  },
  {
   "cell_type": "markdown",
   "metadata": {},
   "source": [
    "If no predictors are provided, the observations of TV from the dataset, Advertising, used as the predictors in the models.\n",
    "\n",
    "Again, the estimated sales is based on the estimated equation, Sales = 7.03 + 0.0475TV.\n",
    "\n",
    "Since there are 200 observations, there will be 200 predictions as given below."
   ]
  },
  {
   "cell_type": "code",
   "execution_count": 41,
   "metadata": {},
   "outputs": [
    {
     "name": "stdout",
     "output_type": "stream",
     "text": [
      "[17.97077451  9.14797405  7.85022376 14.23439457 15.62721814  7.44616232\n",
      "  9.76595037 12.74649773  7.44140866 16.53041431 10.17476548 17.23871025\n",
      "  8.16396559 11.66741599 16.73482186 16.32125309 10.25557777 20.40940417\n",
      " 10.32212907 14.03474068 17.41459582 18.31779199  7.6600772  17.88520856\n",
      "  9.99412625 19.52997632 13.82557947 18.44614092 18.85970969 10.38868036\n",
      " 20.95607553 12.39948025 11.653155   19.65832525 11.58185004 20.85149492\n",
      " 19.72012288 10.58358059  9.08142275 17.87094757 16.65876324 15.44657891\n",
      " 20.98935118 16.86792445  8.22576322 15.35625929 11.2966302  18.43663359\n",
      " 17.83291826 10.21279479 16.53041431 11.80527225 17.31952254 15.71278409\n",
      " 19.52046899 16.48763133  7.37961102 13.50708398 17.05331735 17.04856369\n",
      "  9.57580381 19.45391769 18.4081116  11.91460652 13.26464711 10.31262174\n",
      "  8.52999772 13.65444756 18.31779199 17.3385372  16.49713866 12.25211667\n",
      "  8.30657551 13.18383482 17.17691262  7.83596277  8.33985116 12.76075872\n",
      "  7.28929141 12.54684384 10.66439288 18.43187992 10.61210257 10.28409975\n",
      " 17.18166628 16.21667248 10.65963921 12.29489965 11.2300789  12.25211667\n",
      " 13.41676436  8.39214147 17.38132017 18.95953663 12.13802873 14.79532693\n",
      " 16.4258337  15.82211837 20.80395828 13.45954734 17.60474238 21.12245377\n",
      " 20.3523602  15.96472829 18.3558213  13.58789626  8.22100956 11.32990584\n",
      "  7.65532354 19.17345152 17.76636696 18.52219954 15.38478127 16.99627338\n",
      " 10.74995883 10.60259525 13.6496939  10.66439288 13.00794925  7.95480437\n",
      " 13.74952084  7.92628239 17.68080101 12.88435399 17.94225253 11.17778859\n",
      "  7.40337934 10.84503211 17.50491544  9.86577732  7.0658692  19.63931059\n",
      "  7.43190133 17.48114712  8.78669558  9.32861328  8.24953154 20.04337204\n",
      "  9.07666909 15.82211837 10.52178296 16.2404408  17.51442276 12.00492614\n",
      " 11.60561836 13.7019842  18.44614092 18.5935045   8.83898589  9.15748138\n",
      " 20.37612852 12.78452704 16.4258337  15.17562006 15.95997462  7.22749377\n",
      " 11.49628409 14.15358229  7.58877224 13.29316909 15.23266402 11.10648363\n",
      " 15.98849661 14.80483426 12.60388781 18.17993573  7.88349941 16.86317079\n",
      " 17.2719859  20.54726042  9.40942557 14.8523709   7.9643117  15.0377638\n",
      " 17.60474238 20.19548929 18.84069503 15.12332975 20.18598196 14.9046612\n",
      " 14.47683144 17.41934948  9.70415274 20.70413134 19.09739289 16.77760484\n",
      " 13.66395489 16.11684554 20.62807271  7.92152873  8.91029085 10.6216099\n",
      "  7.85022376 14.96170517 14.14882862  8.84849321 11.51054508 15.44657891\n",
      " 20.51398478 18.06584779]\n"
     ]
    }
   ],
   "source": [
    "predictSales = modelTV.predict()\n",
    "print(predictSales)"
   ]
  },
  {
   "cell_type": "markdown",
   "metadata": {},
   "source": [
    "We do the linear regression analysis for Radio advertising below."
   ]
  },
  {
   "cell_type": "code",
   "execution_count": 21,
   "metadata": {},
   "outputs": [
    {
     "name": "stdout",
     "output_type": "stream",
     "text": [
      "                            OLS Regression Results                            \n",
      "==============================================================================\n",
      "Dep. Variable:                  Sales   R-squared:                       0.332\n",
      "Model:                            OLS   Adj. R-squared:                  0.329\n",
      "Method:                 Least Squares   F-statistic:                     98.42\n",
      "Date:                Tue, 04 Sep 2018   Prob (F-statistic):           4.35e-19\n",
      "Time:                        11:13:26   Log-Likelihood:                -573.34\n",
      "No. Observations:                 200   AIC:                             1151.\n",
      "Df Residuals:                     198   BIC:                             1157.\n",
      "Df Model:                           1                                         \n",
      "Covariance Type:            nonrobust                                         \n",
      "==============================================================================\n",
      "                 coef    std err          t      P>|t|      [0.025      0.975]\n",
      "------------------------------------------------------------------------------\n",
      "Intercept      9.3116      0.563     16.542      0.000       8.202      10.422\n",
      "Radio          0.2025      0.020      9.921      0.000       0.162       0.243\n",
      "==============================================================================\n",
      "Omnibus:                       19.358   Durbin-Watson:                   1.946\n",
      "Prob(Omnibus):                  0.000   Jarque-Bera (JB):               21.910\n",
      "Skew:                          -0.764   Prob(JB):                     1.75e-05\n",
      "Kurtosis:                       3.544   Cond. No.                         51.4\n",
      "==============================================================================\n",
      "\n",
      "Warnings:\n",
      "[1] Standard Errors assume that the covariance matrix of the errors is correctly specified.\n"
     ]
    }
   ],
   "source": [
    "modelRadio = ols(\"Sales~Radio\", Advertising).fit()\n",
    "print(modelRadio.summary())"
   ]
  },
  {
   "cell_type": "markdown",
   "metadata": {},
   "source": [
    "The code below illustrates use of multiple predictors by associating a list [11.34,15.26,17.39] to the predictor \"Radio\""
   ]
  },
  {
   "cell_type": "code",
   "execution_count": 22,
   "metadata": {},
   "outputs": [
    {
     "name": "stdout",
     "output_type": "stream",
     "text": [
      "0    11.61\n",
      "1    12.40\n",
      "2    12.83\n",
      "dtype: float64\n"
     ]
    }
   ],
   "source": [
    "predictSalesRadio = modelRadio.predict({'Radio':[11.34,15.26,17.39]})\n",
    "print(np.around(predictSalesRadio,2))   #limit the number of decimal places printed to two"
   ]
  },
  {
   "cell_type": "markdown",
   "metadata": {},
   "source": [
    "When we have more than one predictor, we are carrying out multiple linear regression.  Linear in a sense that we do not raise the power of the predcitor to more than 1. \n",
    "\n",
    "The model below is then:\n",
    "\n",
    "Sales = intercept + b<sub>0</sub>TV + b<sub>1</sub>Newspaper\n",
    "    \n",
    "Estimate of intercept, b<sub>0</sub> and b<sub>1</sub> are made"
   ]
  },
  {
   "cell_type": "code",
   "execution_count": 31,
   "metadata": {},
   "outputs": [
    {
     "name": "stdout",
     "output_type": "stream",
     "text": [
      "                            OLS Regression Results                            \n",
      "==============================================================================\n",
      "Dep. Variable:                  Sales   R-squared:                       0.646\n",
      "Model:                            OLS   Adj. R-squared:                  0.642\n",
      "Method:                 Least Squares   F-statistic:                     179.6\n",
      "Date:                Wed, 05 Sep 2018   Prob (F-statistic):           3.95e-45\n",
      "Time:                        17:18:18   Log-Likelihood:                -509.89\n",
      "No. Observations:                 200   AIC:                             1026.\n",
      "Df Residuals:                     197   BIC:                             1036.\n",
      "Df Model:                           2                                         \n",
      "Covariance Type:            nonrobust                                         \n",
      "==============================================================================\n",
      "                 coef    std err          t      P>|t|      [0.025      0.975]\n",
      "------------------------------------------------------------------------------\n",
      "Intercept      5.7749      0.525     10.993      0.000       4.739       6.811\n",
      "TV             0.0469      0.003     18.173      0.000       0.042       0.052\n",
      "Newspaper      0.0442      0.010      4.346      0.000       0.024       0.064\n",
      "==============================================================================\n",
      "Omnibus:                        0.658   Durbin-Watson:                   1.969\n",
      "Prob(Omnibus):                  0.720   Jarque-Bera (JB):                0.415\n",
      "Skew:                          -0.093   Prob(JB):                        0.813\n",
      "Kurtosis:                       3.122   Cond. No.                         410.\n",
      "==============================================================================\n",
      "\n",
      "Warnings:\n",
      "[1] Standard Errors assume that the covariance matrix of the errors is correctly specified.\n"
     ]
    }
   ],
   "source": [
    "modelTVNews = ols(\"Sales~TV+ Newspaper\", Advertising).fit()\n",
    "print(modelTVNews.summary())"
   ]
  },
  {
   "cell_type": "markdown",
   "metadata": {},
   "source": [
    "Notice that we use modelTVNews.summary() to print out the whole list of statistics.\n",
    "\n",
    "There are other methods that can be used on the output of the ols fitting that we did above (in this case, the output is stored in modelTVNews).\n",
    "\n",
    "These include\n",
    "(i)  .predict:  use the model to predict the response variables from a set of given predictors (we have seen this used before)\n",
    "(ii)  .params :  output the intercept and coefficient of the model (illustrated below)\n",
    "(iii)  .bse : the standard errors of the intercept and coefficients  \n",
    "(iv)  .fittedvalues :  applying the model to the predictors in the dataset to predict the response\n",
    "\n",
    "The full list of methods can be found here: https://www.statsmodels.org/stable/generated/statsmodels.regression.linear_model.OLSResults.html#statsmodels.regression.linear_model.OLSResults"
   ]
  },
  {
   "cell_type": "code",
   "execution_count": 32,
   "metadata": {},
   "outputs": [
    {
     "data": {
      "text/plain": [
       "Intercept    5.774948\n",
       "TV           0.046901\n",
       "Newspaper    0.044219\n",
       "dtype: float64"
      ]
     },
     "execution_count": 32,
     "metadata": {},
     "output_type": "execute_result"
    }
   ],
   "source": [
    "modelTVNews.params"
   ]
  },
  {
   "cell_type": "code",
   "execution_count": 34,
   "metadata": {},
   "outputs": [
    {
     "data": {
      "text/plain": [
       "Intercept    0.525338\n",
       "TV           0.002581\n",
       "Newspaper    0.010174\n",
       "dtype: float64"
      ]
     },
     "execution_count": 34,
     "metadata": {},
     "output_type": "execute_result"
    }
   ],
   "source": [
    "modelTVNews.bse"
   ]
  },
  {
   "cell_type": "code",
   "execution_count": 35,
   "metadata": {},
   "outputs": [
    {
     "data": {
      "text/plain": [
       "0      19.626901\n",
       "1       9.856348\n",
       "2       9.646055\n",
       "3      15.467318\n",
       "4      16.837102\n",
       "5       9.499445\n",
       "6       9.510924\n",
       "7      11.925419\n",
       "8       6.222518\n",
       "9      16.083262\n",
       "10      9.945228\n",
       "11     16.021516\n",
       "12      9.805257\n",
       "13     10.666196\n",
       "14     17.381579\n",
       "15     17.278653\n",
       "16     13.995865\n",
       "17     21.440393\n",
       "18      9.829727\n",
       "19     13.528088\n",
       "20     18.379490\n",
       "21     17.948453\n",
       "22      8.587327\n",
       "23     17.641044\n",
       "24      9.506109\n",
       "25     18.967556\n",
       "26     13.034296\n",
       "27     18.048554\n",
       "28     18.456595\n",
       "29     10.890326\n",
       "         ...    \n",
       "170     8.933646\n",
       "171    15.586198\n",
       "172     7.445942\n",
       "173    14.239121\n",
       "174    16.785052\n",
       "175    20.610266\n",
       "176    18.322864\n",
       "177    15.314058\n",
       "178    19.800514\n",
       "179    14.320051\n",
       "180    13.486699\n",
       "181    17.234475\n",
       "182     9.724113\n",
       "183    22.438692\n",
       "184    19.005059\n",
       "185    16.256398\n",
       "186    13.493904\n",
       "187    15.542563\n",
       "188    19.352307\n",
       "189     7.686735\n",
       "190     7.884019\n",
       "191     9.581306\n",
       "192     7.978983\n",
       "193    13.757260\n",
       "194    13.061376\n",
       "195     8.176802\n",
       "196    10.551220\n",
       "197    14.359467\n",
       "198    22.003458\n",
       "199    17.045429\n",
       "Length: 200, dtype: float64"
      ]
     },
     "execution_count": 35,
     "metadata": {},
     "output_type": "execute_result"
    }
   ],
   "source": [
    "modelTVNews.fittedvalues"
   ]
  },
  {
   "cell_type": "markdown",
   "metadata": {},
   "source": [
    "## 4.0  Training and Test Data Sets"
   ]
  },
  {
   "cell_type": "markdown",
   "metadata": {},
   "source": [
    "In trying to fit a predictive model, we usually divide our dataset into training and test data.  The dataset that we are working with, \"Advertsing\" contains our training data.  We use these to fit the various models that we are going to use to predict the sales from advertising expenditures.\n",
    "\n",
    "We then test the model with a different set of data that was not used in estyomating the model.  We call this the test dataset.\n",
    "\n",
    "This is to test how well our model fits the data that it has \"not seen before\".\n",
    "\n",
    "Our test data is in the file \"TestAdvertising.csv\" which we read into the dataframe named testAdvertising.\n",
    "\n",
    "Note that we took out the sales data from this file."
   ]
  },
  {
   "cell_type": "code",
   "execution_count": 6,
   "metadata": {},
   "outputs": [],
   "source": [
    "testAdvertising = pd.read_csv('PredictiveAnalytics\\TestAdvertising.csv')"
   ]
  },
  {
   "cell_type": "code",
   "execution_count": 21,
   "metadata": {},
   "outputs": [
    {
     "data": {
      "text/html": [
       "<div>\n",
       "<style scoped>\n",
       "    .dataframe tbody tr th:only-of-type {\n",
       "        vertical-align: middle;\n",
       "    }\n",
       "\n",
       "    .dataframe tbody tr th {\n",
       "        vertical-align: top;\n",
       "    }\n",
       "\n",
       "    .dataframe thead th {\n",
       "        text-align: right;\n",
       "    }\n",
       "</style>\n",
       "<table border=\"1\" class=\"dataframe\">\n",
       "  <thead>\n",
       "    <tr style=\"text-align: right;\">\n",
       "      <th></th>\n",
       "      <th>id</th>\n",
       "      <th>TV</th>\n",
       "      <th>Radio</th>\n",
       "      <th>Newspaper</th>\n",
       "      <th>Sales</th>\n",
       "    </tr>\n",
       "  </thead>\n",
       "  <tbody>\n",
       "    <tr>\n",
       "      <th>0</th>\n",
       "      <td>1</td>\n",
       "      <td>79.21</td>\n",
       "      <td>23.69</td>\n",
       "      <td>74.74</td>\n",
       "      <td>-1</td>\n",
       "    </tr>\n",
       "    <tr>\n",
       "      <th>1</th>\n",
       "      <td>2</td>\n",
       "      <td>110.74</td>\n",
       "      <td>42.72</td>\n",
       "      <td>40.46</td>\n",
       "      <td>-1</td>\n",
       "    </tr>\n",
       "    <tr>\n",
       "      <th>2</th>\n",
       "      <td>3</td>\n",
       "      <td>170.09</td>\n",
       "      <td>21.73</td>\n",
       "      <td>31.03</td>\n",
       "      <td>-1</td>\n",
       "    </tr>\n",
       "    <tr>\n",
       "      <th>3</th>\n",
       "      <td>4</td>\n",
       "      <td>269.26</td>\n",
       "      <td>12.14</td>\n",
       "      <td>113.17</td>\n",
       "      <td>-1</td>\n",
       "    </tr>\n",
       "    <tr>\n",
       "      <th>4</th>\n",
       "      <td>5</td>\n",
       "      <td>60.34</td>\n",
       "      <td>3.51</td>\n",
       "      <td>72.33</td>\n",
       "      <td>-1</td>\n",
       "    </tr>\n",
       "  </tbody>\n",
       "</table>\n",
       "</div>"
      ],
      "text/plain": [
       "   id      TV  Radio  Newspaper  Sales\n",
       "0   1   79.21  23.69      74.74     -1\n",
       "1   2  110.74  42.72      40.46     -1\n",
       "2   3  170.09  21.73      31.03     -1\n",
       "3   4  269.26  12.14     113.17     -1\n",
       "4   5   60.34   3.51      72.33     -1"
      ]
     },
     "execution_count": 21,
     "metadata": {},
     "output_type": "execute_result"
    }
   ],
   "source": [
    "testAdvertising.head()"
   ]
  },
  {
   "cell_type": "markdown",
   "metadata": {},
   "source": [
    "Our testAdvertisng has fifty observations.  Below, we demonstrate using the model \n",
    "\n",
    "Sales = 5.77 + 0.0469TV + 0.0442 Newspaper \n",
    "\n",
    "to predict (forecast) what the sales level would be like given the level of advertsing on TV and Newspaper for the observations in the testAdvertising."
   ]
  },
  {
   "cell_type": "code",
   "execution_count": 22,
   "metadata": {},
   "outputs": [
    {
     "name": "stdout",
     "output_type": "stream",
     "text": [
      "0     12.79\n",
      "1     12.76\n",
      "2     15.12\n",
      "3     23.41\n",
      "4     11.80\n",
      "5     19.35\n",
      "6     19.57\n",
      "7     17.39\n",
      "8     19.19\n",
      "9      9.69\n",
      "10    13.59\n",
      "11    11.95\n",
      "12    17.14\n",
      "13    13.32\n",
      "14    17.24\n",
      "15    12.79\n",
      "16    19.37\n",
      "17    20.10\n",
      "18    13.34\n",
      "19    19.82\n",
      "20    23.77\n",
      "21    11.25\n",
      "22    17.29\n",
      "23     8.43\n",
      "24    13.32\n",
      "25    13.46\n",
      "26     8.58\n",
      "27    12.17\n",
      "28    19.03\n",
      "29    13.54\n",
      "30    15.40\n",
      "31    14.52\n",
      "32    12.84\n",
      "33    11.64\n",
      "34    21.96\n",
      "35    18.10\n",
      "36    19.66\n",
      "37     9.96\n",
      "38    20.81\n",
      "39    14.08\n",
      "40    20.64\n",
      "41    17.82\n",
      "42    17.88\n",
      "43    14.79\n",
      "44    16.83\n",
      "45    19.04\n",
      "46     7.03\n",
      "47    16.19\n",
      "48    16.51\n",
      "49    19.78\n",
      "dtype: float64\n"
     ]
    }
   ],
   "source": [
    "resForecast = modelTVNews.predict(testAdvertising)\n",
    "print (np.around(resForecast,2))"
   ]
  },
  {
   "cell_type": "markdown",
   "metadata": {},
   "source": [
    "What do we do with the predictions we make?\n",
    "\n",
    "We use them to compare how well the different models fit the data - an assumption that a model that fits the data better is more useful.  \n",
    "\n",
    "Remeber that we do have the actual Sales for the test data.  We test the goodness of the model by comparing our forecast of the Sales (like the ones made above) with the actaul Sales.\n",
    "\n",
    "We use a statistic called mean squared error (MSE) to compute the goodness of fit.  The formula is:\n",
    "\n",
    "MSE = (Forecast - Actual)<sup>2</sup> / n, where n is the number of forecasts (50 in our example above)\n",
    "\n",
    "The difference between forecast and actual values are squared to prevent negative differences from cancelling out positive differences.\n",
    "\n",
    "We write a function below to compute the mean squred error."
   ]
  },
  {
   "cell_type": "code",
   "execution_count": 11,
   "metadata": {},
   "outputs": [],
   "source": [
    "def MSE(Forecast,Actual):\n",
    "    return np.around(np.mean((Forecast-Actual)**2),2)"
   ]
  },
  {
   "cell_type": "markdown",
   "metadata": {},
   "source": [
    "Our actual sales is in another file so we read in in as shown below.  Depends on how your data is organized, it may be in the same file as the rest of your test data.\n",
    "\n",
    "Note that the file is read into the dataframe we name as actualSalesOfTest.  There are two columns.  The data we want is in the column named \"Ground-Truth-Sales\"."
   ]
  },
  {
   "cell_type": "code",
   "execution_count": 7,
   "metadata": {},
   "outputs": [
    {
     "data": {
      "text/html": [
       "<div>\n",
       "<style scoped>\n",
       "    .dataframe tbody tr th:only-of-type {\n",
       "        vertical-align: middle;\n",
       "    }\n",
       "\n",
       "    .dataframe tbody tr th {\n",
       "        vertical-align: top;\n",
       "    }\n",
       "\n",
       "    .dataframe thead th {\n",
       "        text-align: right;\n",
       "    }\n",
       "</style>\n",
       "<table border=\"1\" class=\"dataframe\">\n",
       "  <thead>\n",
       "    <tr style=\"text-align: right;\">\n",
       "      <th></th>\n",
       "      <th>id</th>\n",
       "      <th>Ground-Truth-Sales</th>\n",
       "    </tr>\n",
       "  </thead>\n",
       "  <tbody>\n",
       "    <tr>\n",
       "      <th>0</th>\n",
       "      <td>1</td>\n",
       "      <td>11.13</td>\n",
       "    </tr>\n",
       "    <tr>\n",
       "      <th>1</th>\n",
       "      <td>2</td>\n",
       "      <td>16.11</td>\n",
       "    </tr>\n",
       "    <tr>\n",
       "      <th>2</th>\n",
       "      <td>3</td>\n",
       "      <td>14.54</td>\n",
       "    </tr>\n",
       "    <tr>\n",
       "      <th>3</th>\n",
       "      <td>4</td>\n",
       "      <td>17.44</td>\n",
       "    </tr>\n",
       "    <tr>\n",
       "      <th>4</th>\n",
       "      <td>5</td>\n",
       "      <td>6.34</td>\n",
       "    </tr>\n",
       "  </tbody>\n",
       "</table>\n",
       "</div>"
      ],
      "text/plain": [
       "   id  Ground-Truth-Sales\n",
       "0   1               11.13\n",
       "1   2               16.11\n",
       "2   3               14.54\n",
       "3   4               17.44\n",
       "4   5                6.34"
      ]
     },
     "execution_count": 7,
     "metadata": {},
     "output_type": "execute_result"
    }
   ],
   "source": [
    "actualSalesOfTest = pd.read_csv('PredictiveAnalytics\\GroundTruthSales.csv')\n",
    "actualSalesOfTest.head()"
   ]
  },
  {
   "cell_type": "markdown",
   "metadata": {},
   "source": [
    "We can use the mean squared error (MSE) measure to evaluate how well each individaul model fits:\n",
    "\n",
    "(i) the training data - this is the data set that is used to estimate the parameters of the model; and\n",
    "(ii) the test data - this is the data set that is not used to estimate the model.\n",
    "\n",
    "The first cell below is the code to forecast the sales given the value of the predictor (in this case, the TV advertising) from the training data.  There are 200 observations.  We then compute how well the model fits the training data - this is the trainingMSETV.\n",
    "\n",
    "The second cell below forecast the sales using the TV advertising data from the test data set.  There are 50 observations.  WE compute how well the model fits the test data - testMSETV "
   ]
  },
  {
   "cell_type": "code",
   "execution_count": 26,
   "metadata": {},
   "outputs": [
    {
     "name": "stdout",
     "output_type": "stream",
     "text": [
      "10.51\n"
     ]
    }
   ],
   "source": [
    "ForecastTrainingByTV = modelTV.predict(Advertising)\n",
    "trainingMSETV = MSE(ForecastTrainingByTV,Advertising.Sales)\n",
    "\n",
    "\n",
    "print(trainingMSETV)"
   ]
  },
  {
   "cell_type": "code",
   "execution_count": 27,
   "metadata": {},
   "outputs": [
    {
     "name": "stdout",
     "output_type": "stream",
     "text": [
      "6.48\n"
     ]
    }
   ],
   "source": [
    "ForecastTestByTV=modelTV.predict(testAdvertising)\n",
    "testMSETV=MSE(ForecastTestByTV,actualSalesOfTest['Ground-Truth-Sales'])\n",
    "print(testMSETV)"
   ]
  },
  {
   "cell_type": "markdown",
   "metadata": {},
   "source": [
    "The above shows that our model using TV advertising data fits the test data (testMSETV = 6.48) better than the training data (trainingMSETV = 10.51).  This is surpsiring as the model usually fits the training data better than the test data."
   ]
  },
  {
   "cell_type": "markdown",
   "metadata": {},
   "source": [
    "Next we estimate the parameters of all the possible models given the three advertising modes - TV, Radio and Newspaper.  We have models where we consider each mode individually, when two modes are combined in all possible combinations, and when all the three modes are considered together."
   ]
  },
  {
   "cell_type": "code",
   "execution_count": 9,
   "metadata": {},
   "outputs": [
    {
     "name": "stdout",
     "output_type": "stream",
     "text": [
      "                               Sales~TV                                \n",
      "\n",
      "                            OLS Regression Results                            \n",
      "==============================================================================\n",
      "Dep. Variable:                  Sales   R-squared:                       0.612\n",
      "Model:                            OLS   Adj. R-squared:                  0.610\n",
      "Method:                 Least Squares   F-statistic:                     312.1\n",
      "Date:                Wed, 05 Sep 2018   Prob (F-statistic):           1.47e-42\n",
      "Time:                        16:56:15   Log-Likelihood:                -519.05\n",
      "No. Observations:                 200   AIC:                             1042.\n",
      "Df Residuals:                     198   BIC:                             1049.\n",
      "Df Model:                           1                                         \n",
      "Covariance Type:            nonrobust                                         \n",
      "==============================================================================\n",
      "                 coef    std err          t      P>|t|      [0.025      0.975]\n",
      "------------------------------------------------------------------------------\n",
      "Intercept      7.0326      0.458     15.360      0.000       6.130       7.935\n",
      "TV             0.0475      0.003     17.668      0.000       0.042       0.053\n",
      "==============================================================================\n",
      "Omnibus:                        0.531   Durbin-Watson:                   1.935\n",
      "Prob(Omnibus):                  0.767   Jarque-Bera (JB):                0.669\n",
      "Skew:                          -0.089   Prob(JB):                        0.716\n",
      "Kurtosis:                       2.779   Cond. No.                         338.\n",
      "==============================================================================\n",
      "\n",
      "Warnings:\n",
      "[1] Standard Errors assume that the covariance matrix of the errors is correctly specified. \n",
      "\n",
      "                             Sales~Radio                               \n",
      "\n",
      "                            OLS Regression Results                            \n",
      "==============================================================================\n",
      "Dep. Variable:                  Sales   R-squared:                       0.332\n",
      "Model:                            OLS   Adj. R-squared:                  0.329\n",
      "Method:                 Least Squares   F-statistic:                     98.42\n",
      "Date:                Wed, 05 Sep 2018   Prob (F-statistic):           4.35e-19\n",
      "Time:                        16:56:15   Log-Likelihood:                -573.34\n",
      "No. Observations:                 200   AIC:                             1151.\n",
      "Df Residuals:                     198   BIC:                             1157.\n",
      "Df Model:                           1                                         \n",
      "Covariance Type:            nonrobust                                         \n",
      "==============================================================================\n",
      "                 coef    std err          t      P>|t|      [0.025      0.975]\n",
      "------------------------------------------------------------------------------\n",
      "Intercept      9.3116      0.563     16.542      0.000       8.202      10.422\n",
      "Radio          0.2025      0.020      9.921      0.000       0.162       0.243\n",
      "==============================================================================\n",
      "Omnibus:                       19.358   Durbin-Watson:                   1.946\n",
      "Prob(Omnibus):                  0.000   Jarque-Bera (JB):               21.910\n",
      "Skew:                          -0.764   Prob(JB):                     1.75e-05\n",
      "Kurtosis:                       3.544   Cond. No.                         51.4\n",
      "==============================================================================\n",
      "\n",
      "Warnings:\n",
      "[1] Standard Errors assume that the covariance matrix of the errors is correctly specified. \n",
      "\n",
      "                           Sales~Newspaper                             \n",
      "\n",
      "                            OLS Regression Results                            \n",
      "==============================================================================\n",
      "Dep. Variable:                  Sales   R-squared:                       0.052\n",
      "Model:                            OLS   Adj. R-squared:                  0.047\n",
      "Method:                 Least Squares   F-statistic:                     10.89\n",
      "Date:                Wed, 05 Sep 2018   Prob (F-statistic):            0.00115\n",
      "Time:                        16:56:15   Log-Likelihood:                -608.34\n",
      "No. Observations:                 200   AIC:                             1221.\n",
      "Df Residuals:                     198   BIC:                             1227.\n",
      "Df Model:                           1                                         \n",
      "Covariance Type:            nonrobust                                         \n",
      "==============================================================================\n",
      "                 coef    std err          t      P>|t|      [0.025      0.975]\n",
      "------------------------------------------------------------------------------\n",
      "Intercept     12.3514      0.621     19.876      0.000      11.126      13.577\n",
      "Newspaper      0.0547      0.017      3.300      0.001       0.022       0.087\n",
      "==============================================================================\n",
      "Omnibus:                        6.231   Durbin-Watson:                   1.983\n",
      "Prob(Omnibus):                  0.044   Jarque-Bera (JB):                5.483\n",
      "Skew:                           0.330   Prob(JB):                       0.0645\n",
      "Kurtosis:                       2.527   Cond. No.                         64.7\n",
      "==============================================================================\n",
      "\n",
      "Warnings:\n",
      "[1] Standard Errors assume that the covariance matrix of the errors is correctly specified. \n",
      "\n",
      "                            Sales~TV+Radio                             \n",
      "\n",
      "                            OLS Regression Results                            \n",
      "==============================================================================\n",
      "Dep. Variable:                  Sales   R-squared:                       0.897\n",
      "Model:                            OLS   Adj. R-squared:                  0.896\n",
      "Method:                 Least Squares   F-statistic:                     859.6\n",
      "Date:                Wed, 05 Sep 2018   Prob (F-statistic):           4.83e-98\n",
      "Time:                        16:56:15   Log-Likelihood:                -386.20\n",
      "No. Observations:                 200   AIC:                             778.4\n",
      "Df Residuals:                     197   BIC:                             788.3\n",
      "Df Model:                           2                                         \n",
      "Covariance Type:            nonrobust                                         \n",
      "==============================================================================\n",
      "                 coef    std err          t      P>|t|      [0.025      0.975]\n",
      "------------------------------------------------------------------------------\n",
      "Intercept      2.9211      0.294      9.919      0.000       2.340       3.502\n",
      "TV             0.0458      0.001     32.909      0.000       0.043       0.048\n",
      "Radio          0.1880      0.008     23.382      0.000       0.172       0.204\n",
      "==============================================================================\n",
      "Omnibus:                       60.022   Durbin-Watson:                   2.081\n",
      "Prob(Omnibus):                  0.000   Jarque-Bera (JB):              148.679\n",
      "Skew:                          -1.323   Prob(JB):                     5.19e-33\n",
      "Kurtosis:                       6.292   Cond. No.                         425.\n",
      "==============================================================================\n",
      "\n",
      "Warnings:\n",
      "[1] Standard Errors assume that the covariance matrix of the errors is correctly specified. \n",
      "\n",
      "                          Sales~TV+Newspaper                           \n",
      "\n",
      "                            OLS Regression Results                            \n",
      "==============================================================================\n",
      "Dep. Variable:                  Sales   R-squared:                       0.646\n",
      "Model:                            OLS   Adj. R-squared:                  0.642\n",
      "Method:                 Least Squares   F-statistic:                     179.6\n",
      "Date:                Wed, 05 Sep 2018   Prob (F-statistic):           3.95e-45\n",
      "Time:                        16:56:15   Log-Likelihood:                -509.89\n",
      "No. Observations:                 200   AIC:                             1026.\n",
      "Df Residuals:                     197   BIC:                             1036.\n",
      "Df Model:                           2                                         \n",
      "Covariance Type:            nonrobust                                         \n",
      "==============================================================================\n",
      "                 coef    std err          t      P>|t|      [0.025      0.975]\n",
      "------------------------------------------------------------------------------\n",
      "Intercept      5.7749      0.525     10.993      0.000       4.739       6.811\n",
      "TV             0.0469      0.003     18.173      0.000       0.042       0.052\n",
      "Newspaper      0.0442      0.010      4.346      0.000       0.024       0.064\n",
      "==============================================================================\n",
      "Omnibus:                        0.658   Durbin-Watson:                   1.969\n",
      "Prob(Omnibus):                  0.720   Jarque-Bera (JB):                0.415\n",
      "Skew:                          -0.093   Prob(JB):                        0.813\n",
      "Kurtosis:                       3.122   Cond. No.                         410.\n",
      "==============================================================================\n",
      "\n",
      "Warnings:\n",
      "[1] Standard Errors assume that the covariance matrix of the errors is correctly specified. \n",
      "\n",
      "                        Sales~Radio+Newspaper                          \n",
      "\n",
      "                            OLS Regression Results                            \n",
      "==============================================================================\n",
      "Dep. Variable:                  Sales   R-squared:                       0.333\n",
      "Model:                            OLS   Adj. R-squared:                  0.326\n",
      "Method:                 Least Squares   F-statistic:                     49.11\n",
      "Date:                Wed, 05 Sep 2018   Prob (F-statistic):           4.96e-18\n",
      "Time:                        16:56:15   Log-Likelihood:                -573.24\n",
      "No. Observations:                 200   AIC:                             1152.\n",
      "Df Residuals:                     197   BIC:                             1162.\n",
      "Df Model:                           2                                         \n",
      "Covariance Type:            nonrobust                                         \n",
      "==============================================================================\n",
      "                 coef    std err          t      P>|t|      [0.025      0.975]\n",
      "------------------------------------------------------------------------------\n",
      "Intercept      9.1889      0.628     14.640      0.000       7.951      10.427\n",
      "Radio          0.1990      0.022      9.101      0.000       0.156       0.242\n",
      "Newspaper      0.0066      0.015      0.446      0.656      -0.023       0.036\n",
      "==============================================================================\n",
      "Omnibus:                       19.261   Durbin-Watson:                   1.943\n",
      "Prob(Omnibus):                  0.000   Jarque-Bera (JB):               21.768\n",
      "Skew:                          -0.765   Prob(JB):                     1.88e-05\n",
      "Kurtosis:                       3.519   Cond. No.                         92.0\n",
      "==============================================================================\n",
      "\n",
      "Warnings:\n",
      "[1] Standard Errors assume that the covariance matrix of the errors is correctly specified. \n",
      "\n",
      "                       Sales~TV+Radio+Newspaper                        \n",
      "\n",
      "                            OLS Regression Results                            \n",
      "==============================================================================\n",
      "Dep. Variable:                  Sales   R-squared:                       0.897\n",
      "Model:                            OLS   Adj. R-squared:                  0.896\n",
      "Method:                 Least Squares   F-statistic:                     570.3\n",
      "Date:                Wed, 05 Sep 2018   Prob (F-statistic):           1.58e-96\n",
      "Time:                        16:56:15   Log-Likelihood:                -386.18\n",
      "No. Observations:                 200   AIC:                             780.4\n",
      "Df Residuals:                     196   BIC:                             793.6\n",
      "Df Model:                           3                                         \n",
      "Covariance Type:            nonrobust                                         \n",
      "==============================================================================\n",
      "                 coef    std err          t      P>|t|      [0.025      0.975]\n",
      "------------------------------------------------------------------------------\n",
      "Intercept      2.9389      0.312      9.422      0.000       2.324       3.554\n",
      "TV             0.0458      0.001     32.809      0.000       0.043       0.049\n",
      "Radio          0.1885      0.009     21.893      0.000       0.172       0.206\n",
      "Newspaper     -0.0010      0.006     -0.177      0.860      -0.013       0.011\n",
      "==============================================================================\n",
      "Omnibus:                       60.414   Durbin-Watson:                   2.084\n",
      "Prob(Omnibus):                  0.000   Jarque-Bera (JB):              151.241\n",
      "Skew:                          -1.327   Prob(JB):                     1.44e-33\n",
      "Kurtosis:                       6.332   Cond. No.                         454.\n",
      "==============================================================================\n",
      "\n",
      "Warnings:\n",
      "[1] Standard Errors assume that the covariance matrix of the errors is correctly specified. \n",
      "\n"
     ]
    }
   ],
   "source": [
    "from statsmodels.formula.api import ols\n",
    "reg = ['Sales~TV', 'Sales~Radio','Sales~Newspaper', 'Sales~TV+Radio','Sales~TV+Newspaper','Sales~Radio+Newspaper','Sales~TV+Radio+Newspaper']\n",
    "model = ['modelTV','modelRadio','modelNews','modelTVRadio','modelTVNews','modelRadioNews','modelAll']\n",
    "\n",
    "j=0\n",
    "for i in reg:\n",
    "   model[j] =ols(i,Advertising).fit()\n",
    "   j += 1 \n",
    "\n",
    "    \n",
    "l=0\n",
    "for k in model:\n",
    "    print('{:^70}'.format(reg[l]),'\\n')\n",
    "    print(k.summary(),'\\n')\n",
    "    l +=1"
   ]
  },
  {
   "cell_type": "code",
   "execution_count": 30,
   "metadata": {},
   "outputs": [
    {
     "data": {
      "text/plain": [
       "Intercept    7.032594\n",
       "TV           0.047537\n",
       "dtype: float64"
      ]
     },
     "execution_count": 30,
     "metadata": {},
     "output_type": "execute_result"
    }
   ],
   "source": [
    "model[0].params"
   ]
  },
  {
   "cell_type": "markdown",
   "metadata": {},
   "source": [
    "Next, we compute the training and test MSEs for all the models below."
   ]
  },
  {
   "cell_type": "code",
   "execution_count": 23,
   "metadata": {},
   "outputs": [
    {
     "name": "stdout",
     "output_type": "stream",
     "text": [
      "Sales~TV                            10.51       6.48\n",
      "Sales~Radio                         18.09      13.50\n",
      "Sales~Newspaper                     25.67      24.27\n",
      "Sales~TV+Radio                       2.78       0.18\n",
      "Sales~TV+Newspaper                   9.59       9.18\n",
      "Sales~Radio+Newspaper               18.07      13.40\n",
      "Sales~TV+Radio+Newspaper             2.78       0.18\n"
     ]
    }
   ],
   "source": [
    "ftrain = ['ForecastTrainingByTV','ForecastTrainingByRadio','ForecastTrainingByNews','ForecastTrainingByTVRadio','ForecastTrainingByTVNews','ForecastTrainingByRadioNews','ForecastTrainingByAll']\n",
    "trainMSE = ['trainingMSETV','trainingMSERadio','trainingMSENews','trainingMSETVRadio','trainingMSETVNews','trainingMSERadioNews','trainingAll']\n",
    "\n",
    "ftest = ['ForecastTestByTV','ForecastTestByRadio','ForecastTestByNews','ForecastTestByTVRadio','ForecastTestByTVNews','ForecastTestByRadioNews','ForecastTestByAll']\n",
    "testMSE = ['testMSETV','testMSERadio','testMSENews','testMSETVRadio','testMSETVNews','testMSERadioNews','testAll']\n",
    "\n",
    "j=0\n",
    "for i in model:\n",
    "   ftrain[j] =i.predict(Advertising)\n",
    "   trainMSE[j] = MSE(ftrain[j],Advertising.Sales) \n",
    "    \n",
    "   ftest[j] = i.predict(testAdvertising)\n",
    "   testMSE[j] = MSE(ftest[j],actualSalesOfTest['Ground-Truth-Sales']) \n",
    "   j += 1 \n",
    "\n",
    "    \n",
    "l=0\n",
    "for k in trainMSE:\n",
    "#    print(reg[l],'\\t',k,'\\t', testMSE[l],'\\n')\n",
    "    print('{:30} {:10.2f} {:10.2f}'.format(reg[l],k, testMSE[l]))\n",
    "    l +=1\n"
   ]
  },
  {
   "cell_type": "markdown",
   "metadata": {},
   "source": [
    "From the above analysis, we see that two models have the lowest MSE.  They both have the same training MSE (2.78) and test MSE (0.18).  \n",
    "\n",
    "These two models are:\n",
    "    (i)  when using TV and Radio advertising as the predictors of sales; and\n",
    "    (ii) when using TV, Radio and Newspaper advertsing as predictors of sales\n",
    "    \n",
    "We prefer model (i) because it uses less predictors - our preference is to use as simple a model as possible.      "
   ]
  }
 ],
 "metadata": {
  "kernelspec": {
   "display_name": "Python 3",
   "language": "python",
   "name": "python3"
  },
  "language_info": {
   "codemirror_mode": {
    "name": "ipython",
    "version": 3
   },
   "file_extension": ".py",
   "mimetype": "text/x-python",
   "name": "python",
   "nbconvert_exporter": "python",
   "pygments_lexer": "ipython3",
   "version": "3.6.4"
  }
 },
 "nbformat": 4,
 "nbformat_minor": 2
}
